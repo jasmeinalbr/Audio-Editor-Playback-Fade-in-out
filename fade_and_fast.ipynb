{
 "cells": [
  {
   "cell_type": "code",
   "execution_count": 4,
   "id": "374be6d1",
   "metadata": {},
   "outputs": [],
   "source": [
    "from pydub import AudioSegment\n",
    "import librosa \n",
    "import soundfile as sf\n",
    "import numpy as np"
   ]
  },
  {
   "cell_type": "code",
   "execution_count": 5,
   "id": "10cba04d",
   "metadata": {},
   "outputs": [
    {
     "data": {
      "text/plain": [
       "<_io.BufferedRandom name='fast_fade_audio.wav'>"
      ]
     },
     "execution_count": 5,
     "metadata": {},
     "output_type": "execute_result"
    }
   ],
   "source": [
    "# Memuat file audio menggunakan librosa\n",
    "y, sr = librosa.load(\"birds-in-the-forest.wav\")\n",
    "\n",
    "# Mengubah kecepatan audio menggunakan librosa\n",
    "y_fast = librosa.effects.time_stretch(y, rate=1.5)\n",
    "\n",
    "# Mengonversi kembali hasilnya menjadi format yang dapat diproses oleh pydub (numpy array -> AudioSegment)\n",
    "y_fast_int16 = np.int16(y_fast * 32767)  # Mengubah menjadi tipe data yang diterima pydub\n",
    "audio_fast = AudioSegment(\n",
    "    y_fast_int16.tobytes(), \n",
    "    frame_rate=sr, \n",
    "    sample_width=2, \n",
    "    channels=1\n",
    ")\n",
    "\n",
    "# Menambahkan efek fade in dan fade out pada audio yang telah dipercepat\n",
    "audio_fast_fade = audio_fast.fade_in(2000).fade_out(3000)  # 2 detik fade in, 3 detik fade out\n",
    "\n",
    "# Menyimpan hasil gabungan efek fade dan perubahan tempo\n",
    "audio_fast_fade.export(\"fast_fade_audio.wav\", format=\"wav\")"
   ]
  }
 ],
 "metadata": {
  "kernelspec": {
   "display_name": "3.11.4",
   "language": "python",
   "name": "python3"
  },
  "language_info": {
   "codemirror_mode": {
    "name": "ipython",
    "version": 3
   },
   "file_extension": ".py",
   "mimetype": "text/x-python",
   "name": "python",
   "nbconvert_exporter": "python",
   "pygments_lexer": "ipython3",
   "version": "3.11.4"
  }
 },
 "nbformat": 4,
 "nbformat_minor": 5
}
