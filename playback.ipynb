{
 "cells": [
  {
   "cell_type": "code",
   "execution_count": 2,
   "id": "d4279ba1",
   "metadata": {},
   "outputs": [],
   "source": [
    "import librosa \n",
    "import soundfile as sf"
   ]
  },
  {
   "cell_type": "code",
   "execution_count": 3,
   "id": "b336ad1c",
   "metadata": {},
   "outputs": [],
   "source": [
    "## NO. 2\n",
    "# Membaca file audio\n",
    "y, sr = librosa.load(\"i-miss-you.wav\")\n",
    "\n",
    "# Mengubah kecepatan\n",
    "y_slow = librosa.effects.time_stretch(y, rate=0.75)  # 0.75x lebih lambat\n",
    "y_fast = librosa.effects.time_stretch(y, rate=1.5)  # 1.5x lebih cepat\n",
    "\n",
    "# Menyimpan hasil\n",
    "sf.write(\"audio_slow.wav\", y_slow, sr)\n",
    "sf.write(\"audio_fast.wav\", y_fast, sr)"
   ]
  }
 ],
 "metadata": {
  "kernelspec": {
   "display_name": "3.11.4",
   "language": "python",
   "name": "python3"
  },
  "language_info": {
   "codemirror_mode": {
    "name": "ipython",
    "version": 3
   },
   "file_extension": ".py",
   "mimetype": "text/x-python",
   "name": "python",
   "nbconvert_exporter": "python",
   "pygments_lexer": "ipython3",
   "version": "3.11.4"
  }
 },
 "nbformat": 4,
 "nbformat_minor": 5
}
