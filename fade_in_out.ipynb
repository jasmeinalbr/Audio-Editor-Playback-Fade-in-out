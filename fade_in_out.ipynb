{
  "cells": [
    {
      "cell_type": "code",
      "execution_count": 1,
      "id": "29aaf592",
      "metadata": {
        "colab": {
          "base_uri": "https://localhost:8080/"
        },
        "collapsed": true,
        "id": "29aaf592",
        "outputId": "bc1128e5-b625-4fae-c4eb-a4955b7323cd"
      },
      "outputs": [
        {
          "output_type": "stream",
          "name": "stdout",
          "text": [
            "Collecting pydub\n",
            "  Downloading pydub-0.25.1-py2.py3-none-any.whl.metadata (1.4 kB)\n",
            "Downloading pydub-0.25.1-py2.py3-none-any.whl (32 kB)\n",
            "Installing collected packages: pydub\n",
            "Successfully installed pydub-0.25.1\n",
            "Collecting ffmpeg\n",
            "  Downloading ffmpeg-1.4.tar.gz (5.1 kB)\n",
            "  Preparing metadata (setup.py) ... \u001b[?25l\u001b[?25hdone\n",
            "Building wheels for collected packages: ffmpeg\n",
            "  Building wheel for ffmpeg (setup.py) ... \u001b[?25l\u001b[?25hdone\n",
            "  Created wheel for ffmpeg: filename=ffmpeg-1.4-py3-none-any.whl size=6083 sha256=693bc950b8d22b9841aff8a4e9c9f856e29c8e37bab0cf05c1bcb5bbca530d9f\n",
            "  Stored in directory: /root/.cache/pip/wheels/56/30/c5/576bdd729f3bc062d62a551be7fefd6ed2f761901568171e4e\n",
            "Successfully built ffmpeg\n",
            "Installing collected packages: ffmpeg\n",
            "Successfully installed ffmpeg-1.4\n"
          ]
        }
      ],
      "source": [
        "!pip install pydub\n",
        "!pip install ffmpeg"
      ]
    },
    {
      "cell_type": "code",
      "execution_count": 2,
      "id": "2ed49e40",
      "metadata": {
        "id": "2ed49e40"
      },
      "outputs": [],
      "source": [
        "from pydub import AudioSegment"
      ]
    },
    {
      "cell_type": "code",
      "execution_count": 4,
      "id": "d4b95cde",
      "metadata": {
        "colab": {
          "base_uri": "https://localhost:8080/"
        },
        "id": "d4b95cde",
        "outputId": "604beef6-05e7-4e9e-e863-f770f7925e33"
      },
      "outputs": [
        {
          "output_type": "execute_result",
          "data": {
            "text/plain": [
              "<_io.BufferedRandom name='faded_audio_2.mp3'>"
            ]
          },
          "metadata": {},
          "execution_count": 4
        }
      ],
      "source": [
        "## NO. 1\n",
        "# Membaca file audio\n",
        "audio_1 = AudioSegment.from_file(\"music.mp3\", format=\"mp3\")\n",
        "audio_2 = AudioSegment.from_file(\"ringtone.wav\", format=\"wav\")\n",
        "\n",
        "# Menambahkan fade in dan fade out (sesuaikan durasi sesuai kebutuhan)\n",
        "faded_audio_1 = audio_1.fade_in(4000).fade_out(3000)  # 4 detik fade in, 3 detik fade out\n",
        "faded_audio_2 = audio_2.fade_in(5000).fade_out(5000)  # 5 detik fade in dan fade out\n",
        "\n",
        "# Menyimpan hasil\n",
        "faded_audio_1.export(\"faded_audio_1.mp3\", format=\"mp3\")\n",
        "faded_audio_2.export(\"faded_audio_2.mp3\", format=\"mp3\")"
      ]
    },
    {
      "cell_type": "code",
      "execution_count": 5,
      "id": "b9151be7",
      "metadata": {
        "colab": {
          "base_uri": "https://localhost:8080/"
        },
        "id": "b9151be7",
        "outputId": "2191c8fa-df13-4630-bd02-379ee3ef1af2"
      },
      "outputs": [
        {
          "output_type": "execute_result",
          "data": {
            "text/plain": [
              "<_io.BufferedRandom name='podcast_with_fade.mp3'>"
            ]
          },
          "metadata": {},
          "execution_count": 5
        }
      ],
      "source": [
        "## NO. 3\n",
        "# Membaca file podcast\n",
        "podcast = AudioSegment.from_file(\"\\\"Flintoff\\\" Coming Soon To Disney+ | Disney Plus News.mp3\", format=\"mp3\")\n",
        "\n",
        "# Menambahkan fade in dan fade out\n",
        "podcast_with_fade = podcast.fade_in(5000).fade_out(5000)\n",
        "\n",
        "# Menyimpan hasil\n",
        "podcast_with_fade.export(\"podcast_with_fade.mp3\", format=\"mp3\")"
      ]
    }
  ],
  "metadata": {
    "kernelspec": {
      "display_name": "3.11.4",
      "language": "python",
      "name": "python3"
    },
    "language_info": {
      "codemirror_mode": {
        "name": "ipython",
        "version": 3
      },
      "file_extension": ".py",
      "mimetype": "text/x-python",
      "name": "python",
      "nbconvert_exporter": "python",
      "pygments_lexer": "ipython3",
      "version": "3.11.4"
    },
    "colab": {
      "provenance": []
    }
  },
  "nbformat": 4,
  "nbformat_minor": 5
}